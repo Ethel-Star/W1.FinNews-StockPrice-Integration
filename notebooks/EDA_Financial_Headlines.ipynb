{
 "cells": [
  {
   "cell_type": "markdown",
   "metadata": {},
   "source": [
    "# Data Understanding and Preparation "
   ]
  },
  {
   "cell_type": "code",
   "execution_count": 3,
   "metadata": {},
   "outputs": [
    {
     "name": "stdout",
     "output_type": "stream",
     "text": [
      "['Unnamed: 0', 'headline', 'url', 'publisher', 'date', 'stock']\n"
     ]
    },
    {
     "data": {
      "text/html": [
       "<div>\n",
       "<style scoped>\n",
       "    .dataframe tbody tr th:only-of-type {\n",
       "        vertical-align: middle;\n",
       "    }\n",
       "\n",
       "    .dataframe tbody tr th {\n",
       "        vertical-align: top;\n",
       "    }\n",
       "\n",
       "    .dataframe thead th {\n",
       "        text-align: right;\n",
       "    }\n",
       "</style>\n",
       "<table border=\"1\" class=\"dataframe\">\n",
       "  <thead>\n",
       "    <tr style=\"text-align: right;\">\n",
       "      <th></th>\n",
       "      <th>Unnamed: 0</th>\n",
       "      <th>headline</th>\n",
       "      <th>url</th>\n",
       "      <th>publisher</th>\n",
       "      <th>date</th>\n",
       "      <th>stock</th>\n",
       "    </tr>\n",
       "  </thead>\n",
       "  <tbody>\n",
       "    <tr>\n",
       "      <th>0</th>\n",
       "      <td>0</td>\n",
       "      <td>Stocks That Hit 52-Week Highs On Friday</td>\n",
       "      <td>https://www.benzinga.com/news/20/06/16190091/s...</td>\n",
       "      <td>Benzinga Insights</td>\n",
       "      <td>2020-06-05 10:30:54-04:00</td>\n",
       "      <td>A</td>\n",
       "    </tr>\n",
       "    <tr>\n",
       "      <th>1</th>\n",
       "      <td>1</td>\n",
       "      <td>Stocks That Hit 52-Week Highs On Wednesday</td>\n",
       "      <td>https://www.benzinga.com/news/20/06/16170189/s...</td>\n",
       "      <td>Benzinga Insights</td>\n",
       "      <td>2020-06-03 10:45:20-04:00</td>\n",
       "      <td>A</td>\n",
       "    </tr>\n",
       "    <tr>\n",
       "      <th>2</th>\n",
       "      <td>2</td>\n",
       "      <td>71 Biggest Movers From Friday</td>\n",
       "      <td>https://www.benzinga.com/news/20/05/16103463/7...</td>\n",
       "      <td>Lisa Levin</td>\n",
       "      <td>2020-05-26 04:30:07-04:00</td>\n",
       "      <td>A</td>\n",
       "    </tr>\n",
       "    <tr>\n",
       "      <th>3</th>\n",
       "      <td>3</td>\n",
       "      <td>46 Stocks Moving In Friday's Mid-Day Session</td>\n",
       "      <td>https://www.benzinga.com/news/20/05/16095921/4...</td>\n",
       "      <td>Lisa Levin</td>\n",
       "      <td>2020-05-22 12:45:06-04:00</td>\n",
       "      <td>A</td>\n",
       "    </tr>\n",
       "    <tr>\n",
       "      <th>4</th>\n",
       "      <td>4</td>\n",
       "      <td>B of A Securities Maintains Neutral on Agilent...</td>\n",
       "      <td>https://www.benzinga.com/news/20/05/16095304/b...</td>\n",
       "      <td>Vick Meyer</td>\n",
       "      <td>2020-05-22 11:38:59-04:00</td>\n",
       "      <td>A</td>\n",
       "    </tr>\n",
       "  </tbody>\n",
       "</table>\n",
       "</div>"
      ],
      "text/plain": [
       "   Unnamed: 0                                           headline  \\\n",
       "0           0            Stocks That Hit 52-Week Highs On Friday   \n",
       "1           1         Stocks That Hit 52-Week Highs On Wednesday   \n",
       "2           2                      71 Biggest Movers From Friday   \n",
       "3           3       46 Stocks Moving In Friday's Mid-Day Session   \n",
       "4           4  B of A Securities Maintains Neutral on Agilent...   \n",
       "\n",
       "                                                 url          publisher  \\\n",
       "0  https://www.benzinga.com/news/20/06/16190091/s...  Benzinga Insights   \n",
       "1  https://www.benzinga.com/news/20/06/16170189/s...  Benzinga Insights   \n",
       "2  https://www.benzinga.com/news/20/05/16103463/7...         Lisa Levin   \n",
       "3  https://www.benzinga.com/news/20/05/16095921/4...         Lisa Levin   \n",
       "4  https://www.benzinga.com/news/20/05/16095304/b...         Vick Meyer   \n",
       "\n",
       "                        date stock  \n",
       "0  2020-06-05 10:30:54-04:00     A  \n",
       "1  2020-06-03 10:45:20-04:00     A  \n",
       "2  2020-05-26 04:30:07-04:00     A  \n",
       "3  2020-05-22 12:45:06-04:00     A  \n",
       "4  2020-05-22 11:38:59-04:00     A  "
      ]
     },
     "execution_count": 3,
     "metadata": {},
     "output_type": "execute_result"
    }
   ],
   "source": [
    "import pandas as pd\n",
    "import numpy as np\n",
    "import matplotlib.pyplot as plt\n",
    "from textblob import TextBlob\n",
    "import yfinance as yf\n",
    "import seaborn as sns\n",
    "import re\n",
    "import nltk\n",
    "from nltk.corpus import stopwords\n",
    "from nltk.tokenize import word_tokenize\n",
    "from nltk.stem import WordNetLemmatizer\n",
    "from nltk.sentiment.vader import SentimentIntensityAnalyzer \n",
    "from sklearn.feature_extraction.text import CountVectorizer, TfidfVectorizer \n",
    "from sklearn.decomposition import LatentDirichletAllocation \n",
    "\n",
    "import pandas as pd  \n",
    "\n",
    "# nltk.download('stopwords')\n",
    "# nltk.download('punkt')\n",
    "# nltk.download('wordnet')\n",
    "# nltk.download('vader_lexicon') \n",
    "\n",
    "\n",
    "\n",
    "# loading data \n",
    "file_path = r\"C:\\Users\\ethio\\Desktop\\Tenx.AIM2 -ET\\Week1\\Data\\raw_analyst_ratings.csv\"\n",
    "\n",
    "df=pd.read_csv(file_path)\n",
    "print(df.columns.tolist())\n",
    "df.head()\n"
   ]
  },
  {
   "cell_type": "markdown",
   "metadata": {},
   "source": [
    "The unnamed column doesn't contribute any useful information beyond the row count. Before removing it, let's review \n",
    "the last few rows of the dataset."
   ]
  },
  {
   "cell_type": "code",
   "execution_count": 4,
   "metadata": {},
   "outputs": [
    {
     "name": "stdout",
     "output_type": "stream",
     "text": [
      "         Unnamed: 0                                           headline  \\\n",
      "1407327     1413848  China Zenix Auto International Opens For Tradi...   \n",
      "\n",
      "                                                       url      publisher  \\\n",
      "1407327  https://www.benzinga.com/news/ipos/11/05/10789...  Allie Wickman   \n",
      "\n",
      "                        date stock  \n",
      "1407327  2011-05-12 00:00:00    ZX  \n"
     ]
    }
   ],
   "source": [
    "print (df.tail(1))"
   ]
  },
  {
   "cell_type": "markdown",
   "metadata": {},
   "source": [
    "As observed, the unnamed column does not add value beyond indicating the number of rows and can therefore be considered redundant."
   ]
  },
  {
   "cell_type": "code",
   "execution_count": 5,
   "metadata": {},
   "outputs": [
    {
     "name": "stdout",
     "output_type": "stream",
     "text": [
      "\n",
      "Updated column names in the dataset:\n",
      "['headline', 'url', 'publisher', 'date', 'stock']\n",
      "\n",
      "First few rows of the updated dataset:\n"
     ]
    },
    {
     "data": {
      "text/html": [
       "<div>\n",
       "<style scoped>\n",
       "    .dataframe tbody tr th:only-of-type {\n",
       "        vertical-align: middle;\n",
       "    }\n",
       "\n",
       "    .dataframe tbody tr th {\n",
       "        vertical-align: top;\n",
       "    }\n",
       "\n",
       "    .dataframe thead th {\n",
       "        text-align: right;\n",
       "    }\n",
       "</style>\n",
       "<table border=\"1\" class=\"dataframe\">\n",
       "  <thead>\n",
       "    <tr style=\"text-align: right;\">\n",
       "      <th></th>\n",
       "      <th>headline</th>\n",
       "      <th>url</th>\n",
       "      <th>publisher</th>\n",
       "      <th>date</th>\n",
       "      <th>stock</th>\n",
       "    </tr>\n",
       "  </thead>\n",
       "  <tbody>\n",
       "    <tr>\n",
       "      <th>0</th>\n",
       "      <td>Stocks That Hit 52-Week Highs On Friday</td>\n",
       "      <td>https://www.benzinga.com/news/20/06/16190091/s...</td>\n",
       "      <td>Benzinga Insights</td>\n",
       "      <td>2020-06-05 10:30:54-04:00</td>\n",
       "      <td>A</td>\n",
       "    </tr>\n",
       "    <tr>\n",
       "      <th>1</th>\n",
       "      <td>Stocks That Hit 52-Week Highs On Wednesday</td>\n",
       "      <td>https://www.benzinga.com/news/20/06/16170189/s...</td>\n",
       "      <td>Benzinga Insights</td>\n",
       "      <td>2020-06-03 10:45:20-04:00</td>\n",
       "      <td>A</td>\n",
       "    </tr>\n",
       "    <tr>\n",
       "      <th>2</th>\n",
       "      <td>71 Biggest Movers From Friday</td>\n",
       "      <td>https://www.benzinga.com/news/20/05/16103463/7...</td>\n",
       "      <td>Lisa Levin</td>\n",
       "      <td>2020-05-26 04:30:07-04:00</td>\n",
       "      <td>A</td>\n",
       "    </tr>\n",
       "    <tr>\n",
       "      <th>3</th>\n",
       "      <td>46 Stocks Moving In Friday's Mid-Day Session</td>\n",
       "      <td>https://www.benzinga.com/news/20/05/16095921/4...</td>\n",
       "      <td>Lisa Levin</td>\n",
       "      <td>2020-05-22 12:45:06-04:00</td>\n",
       "      <td>A</td>\n",
       "    </tr>\n",
       "    <tr>\n",
       "      <th>4</th>\n",
       "      <td>B of A Securities Maintains Neutral on Agilent...</td>\n",
       "      <td>https://www.benzinga.com/news/20/05/16095304/b...</td>\n",
       "      <td>Vick Meyer</td>\n",
       "      <td>2020-05-22 11:38:59-04:00</td>\n",
       "      <td>A</td>\n",
       "    </tr>\n",
       "  </tbody>\n",
       "</table>\n",
       "</div>"
      ],
      "text/plain": [
       "                                            headline  \\\n",
       "0            Stocks That Hit 52-Week Highs On Friday   \n",
       "1         Stocks That Hit 52-Week Highs On Wednesday   \n",
       "2                      71 Biggest Movers From Friday   \n",
       "3       46 Stocks Moving In Friday's Mid-Day Session   \n",
       "4  B of A Securities Maintains Neutral on Agilent...   \n",
       "\n",
       "                                                 url          publisher  \\\n",
       "0  https://www.benzinga.com/news/20/06/16190091/s...  Benzinga Insights   \n",
       "1  https://www.benzinga.com/news/20/06/16170189/s...  Benzinga Insights   \n",
       "2  https://www.benzinga.com/news/20/05/16103463/7...         Lisa Levin   \n",
       "3  https://www.benzinga.com/news/20/05/16095921/4...         Lisa Levin   \n",
       "4  https://www.benzinga.com/news/20/05/16095304/b...         Vick Meyer   \n",
       "\n",
       "                        date stock  \n",
       "0  2020-06-05 10:30:54-04:00     A  \n",
       "1  2020-06-03 10:45:20-04:00     A  \n",
       "2  2020-05-26 04:30:07-04:00     A  \n",
       "3  2020-05-22 12:45:06-04:00     A  \n",
       "4  2020-05-22 11:38:59-04:00     A  "
      ]
     },
     "execution_count": 5,
     "metadata": {},
     "output_type": "execute_result"
    }
   ],
   "source": [
    "\n",
    "df = df.drop(columns=['Unnamed: 0'])\n",
    "# Verify the DataFrame after dropping the column\n",
    "print(\"\\nUpdated column names in the dataset:\")\n",
    "print(df.columns.tolist())\n",
    "print(\"\\nFirst few rows of the updated dataset:\")\n",
    "df.head()"
   ]
  },
  {
   "cell_type": "markdown",
   "metadata": {},
   "source": [
    "# Data Cleaning \n",
    "Address missing values, identify and remove duplicates, and verify that all text is properly formatted (e.g., dates are in the correct format)\n",
    "As it can be seen from the table the data column is in \"%Y-%m-%d %H:%M:%S\" format, and also converting the headlines to lowercase"
   ]
  },
  {
   "cell_type": "code",
   "execution_count": 6,
   "metadata": {},
   "outputs": [
    {
     "name": "stdout",
     "output_type": "stream",
     "text": [
      "Missing values in each column:\n",
      "headline     0\n",
      "url          0\n",
      "publisher    0\n",
      "date         0\n",
      "stock        0\n",
      "dtype: int64\n",
      "Number of duplicate rows:\n",
      "1\n",
      "Remove duplicate rows:\n",
      "0\n"
     ]
    },
    {
     "data": {
      "text/html": [
       "<div>\n",
       "<style scoped>\n",
       "    .dataframe tbody tr th:only-of-type {\n",
       "        vertical-align: middle;\n",
       "    }\n",
       "\n",
       "    .dataframe tbody tr th {\n",
       "        vertical-align: top;\n",
       "    }\n",
       "\n",
       "    .dataframe thead th {\n",
       "        text-align: right;\n",
       "    }\n",
       "</style>\n",
       "<table border=\"1\" class=\"dataframe\">\n",
       "  <thead>\n",
       "    <tr style=\"text-align: right;\">\n",
       "      <th></th>\n",
       "      <th>headline</th>\n",
       "      <th>url</th>\n",
       "      <th>publisher</th>\n",
       "      <th>date</th>\n",
       "      <th>stock</th>\n",
       "    </tr>\n",
       "  </thead>\n",
       "  <tbody>\n",
       "    <tr>\n",
       "      <th>0</th>\n",
       "      <td>stocks that hit 52-week highs on friday</td>\n",
       "      <td>https://www.benzinga.com/news/20/06/16190091/s...</td>\n",
       "      <td>Benzinga Insights</td>\n",
       "      <td>2020-06-05 10:30:54-04:00</td>\n",
       "      <td>A</td>\n",
       "    </tr>\n",
       "    <tr>\n",
       "      <th>1</th>\n",
       "      <td>stocks that hit 52-week highs on wednesday</td>\n",
       "      <td>https://www.benzinga.com/news/20/06/16170189/s...</td>\n",
       "      <td>Benzinga Insights</td>\n",
       "      <td>2020-06-03 10:45:20-04:00</td>\n",
       "      <td>A</td>\n",
       "    </tr>\n",
       "    <tr>\n",
       "      <th>2</th>\n",
       "      <td>71 biggest movers from friday</td>\n",
       "      <td>https://www.benzinga.com/news/20/05/16103463/7...</td>\n",
       "      <td>Lisa Levin</td>\n",
       "      <td>2020-05-26 04:30:07-04:00</td>\n",
       "      <td>A</td>\n",
       "    </tr>\n",
       "    <tr>\n",
       "      <th>3</th>\n",
       "      <td>46 stocks moving in friday's mid-day session</td>\n",
       "      <td>https://www.benzinga.com/news/20/05/16095921/4...</td>\n",
       "      <td>Lisa Levin</td>\n",
       "      <td>2020-05-22 12:45:06-04:00</td>\n",
       "      <td>A</td>\n",
       "    </tr>\n",
       "    <tr>\n",
       "      <th>4</th>\n",
       "      <td>b of a securities maintains neutral on agilent...</td>\n",
       "      <td>https://www.benzinga.com/news/20/05/16095304/b...</td>\n",
       "      <td>Vick Meyer</td>\n",
       "      <td>2020-05-22 11:38:59-04:00</td>\n",
       "      <td>A</td>\n",
       "    </tr>\n",
       "  </tbody>\n",
       "</table>\n",
       "</div>"
      ],
      "text/plain": [
       "                                            headline  \\\n",
       "0            stocks that hit 52-week highs on friday   \n",
       "1         stocks that hit 52-week highs on wednesday   \n",
       "2                      71 biggest movers from friday   \n",
       "3       46 stocks moving in friday's mid-day session   \n",
       "4  b of a securities maintains neutral on agilent...   \n",
       "\n",
       "                                                 url          publisher  \\\n",
       "0  https://www.benzinga.com/news/20/06/16190091/s...  Benzinga Insights   \n",
       "1  https://www.benzinga.com/news/20/06/16170189/s...  Benzinga Insights   \n",
       "2  https://www.benzinga.com/news/20/05/16103463/7...         Lisa Levin   \n",
       "3  https://www.benzinga.com/news/20/05/16095921/4...         Lisa Levin   \n",
       "4  https://www.benzinga.com/news/20/05/16095304/b...         Vick Meyer   \n",
       "\n",
       "                       date stock  \n",
       "0 2020-06-05 10:30:54-04:00     A  \n",
       "1 2020-06-03 10:45:20-04:00     A  \n",
       "2 2020-05-26 04:30:07-04:00     A  \n",
       "3 2020-05-22 12:45:06-04:00     A  \n",
       "4 2020-05-22 11:38:59-04:00     A  "
      ]
     },
     "execution_count": 6,
     "metadata": {},
     "output_type": "execute_result"
    }
   ],
   "source": [
    "# Check for missing values in the dataset\n",
    "print(\"Missing values in each column:\")\n",
    "print(df.isnull().sum())\n",
    "# Identify duplicate rows\n",
    "print(\"Number of duplicate rows:\")\n",
    "print(df.duplicated().sum())\n",
    "# Remove duplicate rows\n",
    "df = df.drop_duplicates()\n",
    "print(\"Remove duplicate rows:\")\n",
    "print(df.duplicated().sum())\n",
    "date_format = \"%Y-%m-%d %H:%M:%S%z\"  \n",
    "df['date'] = pd.to_datetime(df['date'], format=date_format, errors='coerce')\n",
    "# Convert all headlines to lowercase to ensure consistency, as variations in case (e.g., \"U\" vs. \"u\") can affect text analysis.\n",
    "\n",
    "df['headline'] = df['headline'].str.lower()\n",
    "date_format = \"%Y-%m-%d %H:%M:%S%z\"\n",
    "df.head()"
   ]
  },
  {
   "cell_type": "markdown",
   "metadata": {},
   "source": [
    "# Descriptive Statistics\n",
    " After data cleansing, better to perform descriptive statistics, such as analyzing headline lengths. \n",
    " Then count the number of articles per publisher to identify the most active ones and examine\n",
    " publication dates to identify trends over time\n"
   ]
  },
  {
   "cell_type": "code",
   "execution_count": 7,
   "metadata": {},
   "outputs": [
    {
     "name": "stdout",
     "output_type": "stream",
     "text": [
      "Descriptive statistics for headline lengths:\n",
      "count    1.407327e+06\n",
      "mean     7.312054e+01\n",
      "std      4.073532e+01\n",
      "min      3.000000e+00\n",
      "25%      4.700000e+01\n",
      "50%      6.400000e+01\n",
      "75%      8.700000e+01\n",
      "max      5.120000e+02\n",
      "Name: headline_length, dtype: float64\n"
     ]
    }
   ],
   "source": [
    "df['headline_length'] = df['headline'].str.len()\n",
    "\n",
    "# descriptive statistics for headline lengths\n",
    "headline_length_D_stats = df['headline_length'].describe()\n",
    "print(\"Descriptive statistics for headline lengths:\")\n",
    "print(headline_length_D_stats)\n"
   ]
  },
  {
   "cell_type": "code",
   "execution_count": 8,
   "metadata": {},
   "outputs": [
    {
     "name": "stdout",
     "output_type": "stream",
     "text": [
      "\n",
      "Number of articles per publisher:\n",
      "publisher\n",
      "Paul Quintaro        228373\n",
      "Lisa Levin           186978\n",
      "Benzinga Newsdesk    150484\n",
      "Charles Gross         96732\n",
      "Monica Gerson         82380\n",
      "                      ...  \n",
      "MoneyGeek                 1\n",
      "muathe                    1\n",
      "Robert Morris             1\n",
      "LeftCoastHedgie           1\n",
      "Jeremie Capron            1\n",
      "Name: count, Length: 1034, dtype: int64\n"
     ]
    }
   ],
   "source": [
    "# Count the number of articles per publisher\n",
    "publisher_counts = df['publisher'].value_counts()\n",
    "print(\"\\nNumber of articles per publisher:\")\n",
    "print(publisher_counts)\n"
   ]
  },
  {
   "cell_type": "code",
   "execution_count": 9,
   "metadata": {},
   "outputs": [
    {
     "name": "stdout",
     "output_type": "stream",
     "text": [
      "\n",
      "Daily publication counts:\n",
      "date\n",
      "2011-04-27      1\n",
      "2011-04-28      2\n",
      "2011-04-29      2\n",
      "2011-04-30      1\n",
      "2011-05-01      1\n",
      "             ... \n",
      "2020-06-07     25\n",
      "2020-06-08    765\n",
      "2020-06-09    804\n",
      "2020-06-10    806\n",
      "2020-06-11    544\n",
      "Name: count, Length: 2528, dtype: int64\n",
      "Minimum Date: 2011-04-27 21:01:48-04:00\n",
      "Maximum Date: 2020-06-11 17:12:35-04:00\n"
     ]
    }
   ],
   "source": [
    "# Count articles per day\n",
    "df['date'] = pd.to_datetime(df['date'])\n",
    "daily_counts = df['date'].dt.date.value_counts().sort_index()\n",
    "print(\"\\nDaily publication counts:\")\n",
    "print(daily_counts)\n",
    "\n",
    "# Get the minimum and maximum dates\n",
    "min_date = df['date'].min()\n",
    "max_date = df['date'].max()\n",
    "\n",
    "print(f\"Minimum Date: {min_date}\")\n",
    "print(f\"Maximum Date: {max_date}\")\n"
   ]
  },
  {
   "cell_type": "markdown",
   "metadata": {},
   "source": [
    "\n",
    "To analyze trends over time in publication dates, including increased news frequency on specific days or during particular events, we should plot the number of publications we can observe and understand the overall trends more effectively. Additionally, marking major events in the plots will help highlight significant changes in publication frequency"
   ]
  },
  {
   "cell_type": "code",
   "execution_count": 10,
   "metadata": {},
   "outputs": [
    {
     "data": {
      "image/png": "[encoded data removed]",
      "text/plain": [
       "<Figure size 1200x600 with 1 Axes>"
      ]
     },
     "metadata": {},
     "output_type": "display_data"
    }
   ],
   "source": [
    "# Filter dates between 2011 and 2020\n",
    "df = df[(df['date'] >= '2011-04-27') & (df['date'] <= '2020-06-11')]\n",
    "\n",
    "# Extract date components\n",
    "df['date'] = df['date'].dt.date\n",
    "#%Y-%m-%d %H:%M:%S%z\n",
    "# Count the number of articles published per day\n",
    "date_format = \"%Y-%m-%d %H:%M:%S\"\n",
    "df['date'] = pd.to_datetime(df['date'], format=date_format, errors='coerce')\n",
    "\n",
    "# Group by date and count the number of articles\n",
    "articles_per_day = df.groupby('date').size()\n",
    "\n",
    "# Define major events\n",
    "major_events = {\n",
    "    'COVID-19 Pandemic': pd.Timestamp('2020-03-01'), \n",
    "}\n",
    "\n",
    "# Plot the number of articles published per day\n",
    "plt.figure(figsize=(12, 6))\n",
    "plt.plot(articles_per_day.index, articles_per_day.values, marker='o', color='skyblue')\n",
    "plt.title('Number of Articles Published Per Day (1900 - 2020)')\n",
    "plt.xlabel('Date')\n",
    "plt.ylabel('Number of Articles')\n",
    "plt.grid(True)\n",
    "\n",
    "# Add vertical lines for major events\n",
    "for event, date in major_events.items():\n",
    "    if date in articles_per_day.index:\n",
    "        plt.axvline(date, color='red', linestyle='--', alpha=0.7, label=event)\n",
    "\n",
    "# Add legend and format x-axis labels\n",
    "plt.legend()\n",
    "plt.xticks(rotation=45)\n",
    "plt.tight_layout()\n",
    "\n",
    "# Display the plot\n",
    "plt.show()\n",
    "\n",
    "# Print the first few rows of the DataFrame\n",
    "#df.head()"
   ]
  },
  {
   "cell_type": "markdown",
   "metadata": {},
   "source": [
    "As it can be seen on the graph their is a significant increase in publication on the year 2020 this might be because of COVID 19 out brake"
   ]
  },
  {
   "cell_type": "markdown",
   "metadata": {},
   "source": [
    "# Text Analysis (Sentiment analysis & Topic Modeling):\n",
    "\n",
    "To perform sentiment analysis on headlines. we can use pre-built libraries like VADER,and Textblob. \n"
   ]
  },
  {
   "cell_type": "code",
   "execution_count": 11,
   "metadata": {},
   "outputs": [
    {
     "name": "stdout",
     "output_type": "stream",
     "text": [
      "sentiment_category\n",
      "Neutral     26240\n",
      "Positive    16078\n",
      "Negative    13125\n",
      "Name: count, dtype: int64\n"
     ]
    },
    {
     "data": {
      "image/png": "[encoded data removed]",
      "text/plain": [
       "<Figure size 1200x700 with 1 Axes>"
      ]
     },
     "metadata": {},
     "output_type": "display_data"
    }
   ],
   "source": [
    "# Sentiment Analysis\n",
    "stop_words = set(stopwords.words('english'))\n",
    "\n",
    "# Initialize VADER sentiment analyzer\n",
    "sid = SentimentIntensityAnalyzer()\n",
    "\n",
    "def analyze_sentiment(text):\n",
    "    sentiment_scores = sid.polarity_scores(text)\n",
    "    compound_score = sentiment_scores['compound']\n",
    "    return compound_score\n",
    "\n",
    "df['sentiment'] = df['headline'].apply(analyze_sentiment)\n",
    "positive_threshold = 0.05\n",
    "negative_threshold = -0.05\n",
    "\n",
    "# Categorize sentiment\n",
    "def categorize_sentiment(score):\n",
    "    if score >= positive_threshold:\n",
    "        return 'Positive'\n",
    "    elif score <= negative_threshold:\n",
    "        return 'Negative'\n",
    "    else:\n",
    "        return 'Neutral'\n",
    "df['sentiment_category'] = df['sentiment'].apply(categorize_sentiment)\n",
    "\n",
    "# Count the number of occurrences in each sentiment category\n",
    "sentiment_counts = df['sentiment_category'].value_counts()\n",
    "\n",
    "print(sentiment_counts)   \n",
    "# Plotting the distribution of sentiment scores\n",
    "plt.figure(figsize=(12, 7))\n",
    "sns.histplot(df['sentiment'], bins=30, kde=True, color='skyblue')\n",
    "\n",
    "# Adding vertical lines for sentiment boundaries\n",
    "plt.axvline(x=-0.05, color='red', linestyle='--', label='Negative Threshold')\n",
    "plt.axvline(x=0.05, color='green', linestyle='--', label='Positive Threshold')\n",
    "plt.axvline(x=0, color='gray', linestyle='--', label='Neutral Threshold')\n",
    "\n",
    "plt.title('Distribution of Sentiment Scores')\n",
    "plt.xlabel('Sentiment Score')\n",
    "plt.ylabel('Frequency')\n",
    "plt.legend(title='Sentiment Thresholds')\n",
    "plt.show()"
   ]
  },
  {
   "cell_type": "markdown",
   "metadata": {},
   "source": [
    "The sentiment analysis plot displays the sentiment scores on the x-axis and their frequency on the y-axis. Data points below the red threshold are classified as negative sentiment, while those above the green threshold are categorized as positive sentiment. The analysis reveals that most headlines fall into the neutral sentiment category. When comparing negative and positive sentiments, positive sentiments are more prevalent than negative ones."
   ]
  },
  {
   "cell_type": "markdown",
   "metadata": {},
   "source": [
    "To identify common keywords or phrases, potentially extracting topics or significant events (like \"FDA approval\", \"price target\", etc.). First we have to preprocess the text data then extract keywords or phrases , finally \" Topic Modeling\" (finding significant topics in the data)"
   ]
  },
  {
   "cell_type": "code",
   "execution_count": 12,
   "metadata": {},
   "outputs": [],
   "source": [
    "def preprocess_text(text):\n",
    "    \n",
    "    text = re.sub(r'\\W+', ' ', text)\n",
    "    text = text.lower()\n",
    "    # Remove stopwords\n",
    "    text = ' '.join([word for word in text.split() if word not in stop_words]) # the, and etc no impact on the sentiment \n",
    "    return text\n",
    "\n",
    "df['processed_headline'] = df['headline'].apply(preprocess_text)\n",
    "\n",
    "# Keyword Extraction using TF-IDF\n",
    "\n",
    "tfidf_vectorizer = TfidfVectorizer(max_df=0.95, min_df=2, max_features=1000, stop_words='english')\n",
    "tfidf_matrix = tfidf_vectorizer.fit_transform(df['processed_headline'])\n",
    "\n",
    "# Extract top keywords per document\n",
    "def get_top_keywords(tfidf_matrix, feature_names, top_n=5):\n",
    "    top_keywords = []\n",
    "    for i in range(tfidf_matrix.shape[0]):\n",
    "        sorted_indices = tfidf_matrix[i].toarray()[0].argsort()[::-1]\n",
    "        top_keywords.append([feature_names[j] for j in sorted_indices[:top_n]])\n",
    "    return top_keywords\n",
    "\n",
    "feature_names = tfidf_vectorizer.get_feature_names_out()\n",
    "df['top_keywords'] = get_top_keywords(tfidf_matrix, feature_names)\n"
   ]
  },
  {
   "cell_type": "markdown",
   "metadata": {},
   "source": [
    "Topic Modeling "
   ]
  },
  {
   "cell_type": "code",
   "execution_count": 13,
   "metadata": {},
   "outputs": [
    {
     "data": {
      "text/html": [
       "<div>\n",
       "<style scoped>\n",
       "    .dataframe tbody tr th:only-of-type {\n",
       "        vertical-align: middle;\n",
       "    }\n",
       "\n",
       "    .dataframe tbody tr th {\n",
       "        vertical-align: top;\n",
       "    }\n",
       "\n",
       "    .dataframe thead th {\n",
       "        text-align: right;\n",
       "    }\n",
       "</style>\n",
       "<table border=\"1\" class=\"dataframe\">\n",
       "  <thead>\n",
       "    <tr style=\"text-align: right;\">\n",
       "      <th></th>\n",
       "      <th>headline</th>\n",
       "      <th>url</th>\n",
       "      <th>publisher</th>\n",
       "      <th>date</th>\n",
       "      <th>stock</th>\n",
       "      <th>headline_length</th>\n",
       "      <th>sentiment</th>\n",
       "      <th>sentiment_category</th>\n",
       "      <th>processed_headline</th>\n",
       "      <th>top_keywords</th>\n",
       "      <th>topic</th>\n",
       "    </tr>\n",
       "  </thead>\n",
       "  <tbody>\n",
       "    <tr>\n",
       "      <th>0</th>\n",
       "      <td>stocks that hit 52-week highs on friday</td>\n",
       "      <td>https://www.benzinga.com/news/20/06/16190091/s...</td>\n",
       "      <td>Benzinga Insights</td>\n",
       "      <td>2020-06-05</td>\n",
       "      <td>A</td>\n",
       "      <td>39</td>\n",
       "      <td>0.000</td>\n",
       "      <td>Neutral</td>\n",
       "      <td>stocks hit 52 week highs friday</td>\n",
       "      <td>[highs, friday, hit, 52, week]</td>\n",
       "      <td>2</td>\n",
       "    </tr>\n",
       "    <tr>\n",
       "      <th>1</th>\n",
       "      <td>stocks that hit 52-week highs on wednesday</td>\n",
       "      <td>https://www.benzinga.com/news/20/06/16170189/s...</td>\n",
       "      <td>Benzinga Insights</td>\n",
       "      <td>2020-06-03</td>\n",
       "      <td>A</td>\n",
       "      <td>42</td>\n",
       "      <td>0.000</td>\n",
       "      <td>Neutral</td>\n",
       "      <td>stocks hit 52 week highs wednesday</td>\n",
       "      <td>[wednesday, highs, hit, 52, week]</td>\n",
       "      <td>2</td>\n",
       "    </tr>\n",
       "    <tr>\n",
       "      <th>2</th>\n",
       "      <td>71 biggest movers from friday</td>\n",
       "      <td>https://www.benzinga.com/news/20/05/16103463/7...</td>\n",
       "      <td>Lisa Levin</td>\n",
       "      <td>2020-05-26</td>\n",
       "      <td>A</td>\n",
       "      <td>29</td>\n",
       "      <td>0.000</td>\n",
       "      <td>Neutral</td>\n",
       "      <td>71 biggest movers friday</td>\n",
       "      <td>[71, movers, biggest, friday, 00]</td>\n",
       "      <td>0</td>\n",
       "    </tr>\n",
       "    <tr>\n",
       "      <th>3</th>\n",
       "      <td>46 stocks moving in friday's mid-day session</td>\n",
       "      <td>https://www.benzinga.com/news/20/05/16095921/4...</td>\n",
       "      <td>Lisa Levin</td>\n",
       "      <td>2020-05-22</td>\n",
       "      <td>A</td>\n",
       "      <td>44</td>\n",
       "      <td>0.000</td>\n",
       "      <td>Neutral</td>\n",
       "      <td>46 stocks moving friday mid day session</td>\n",
       "      <td>[46, day, friday, moving, mid]</td>\n",
       "      <td>2</td>\n",
       "    </tr>\n",
       "    <tr>\n",
       "      <th>4</th>\n",
       "      <td>b of a securities maintains neutral on agilent...</td>\n",
       "      <td>https://www.benzinga.com/news/20/05/16095304/b...</td>\n",
       "      <td>Vick Meyer</td>\n",
       "      <td>2020-05-22</td>\n",
       "      <td>A</td>\n",
       "      <td>87</td>\n",
       "      <td>0.296</td>\n",
       "      <td>Positive</td>\n",
       "      <td>b securities maintains neutral agilent technol...</td>\n",
       "      <td>[88, securities, technologies, neutral, raises]</td>\n",
       "      <td>4</td>\n",
       "    </tr>\n",
       "  </tbody>\n",
       "</table>\n",
       "</div>"
      ],
      "text/plain": [
       "                                            headline  \\\n",
       "0            stocks that hit 52-week highs on friday   \n",
       "1         stocks that hit 52-week highs on wednesday   \n",
       "2                      71 biggest movers from friday   \n",
       "3       46 stocks moving in friday's mid-day session   \n",
       "4  b of a securities maintains neutral on agilent...   \n",
       "\n",
       "                                                 url          publisher  \\\n",
       "0  https://www.benzinga.com/news/20/06/16190091/s...  Benzinga Insights   \n",
       "1  https://www.benzinga.com/news/20/06/16170189/s...  Benzinga Insights   \n",
       "2  https://www.benzinga.com/news/20/05/16103463/7...         Lisa Levin   \n",
       "3  https://www.benzinga.com/news/20/05/16095921/4...         Lisa Levin   \n",
       "4  https://www.benzinga.com/news/20/05/16095304/b...         Vick Meyer   \n",
       "\n",
       "        date stock  headline_length  sentiment sentiment_category  \\\n",
       "0 2020-06-05     A               39      0.000            Neutral   \n",
       "1 2020-06-03     A               42      0.000            Neutral   \n",
       "2 2020-05-26     A               29      0.000            Neutral   \n",
       "3 2020-05-22     A               44      0.000            Neutral   \n",
       "4 2020-05-22     A               87      0.296           Positive   \n",
       "\n",
       "                                  processed_headline  \\\n",
       "0                    stocks hit 52 week highs friday   \n",
       "1                 stocks hit 52 week highs wednesday   \n",
       "2                           71 biggest movers friday   \n",
       "3            46 stocks moving friday mid day session   \n",
       "4  b securities maintains neutral agilent technol...   \n",
       "\n",
       "                                      top_keywords  topic  \n",
       "0                   [highs, friday, hit, 52, week]      2  \n",
       "1                [wednesday, highs, hit, 52, week]      2  \n",
       "2                [71, movers, biggest, friday, 00]      0  \n",
       "3                   [46, day, friday, moving, mid]      2  \n",
       "4  [88, securities, technologies, neutral, raises]      4  "
      ]
     },
     "execution_count": 13,
     "metadata": {},
     "output_type": "execute_result"
    }
   ],
   "source": [
    "lda = LatentDirichletAllocation(n_components=5, random_state=42)\n",
    "lda.fit(tfidf_matrix)\n",
    "\n",
    "def display_topics(model, feature_names, no_top_words):\n",
    "    topics = []\n",
    "    for topic_idx, topic in enumerate(model.components_):\n",
    "        top_features = [feature_names[i] for i in topic.argsort()[:-no_top_words - 1:-1]]\n",
    "        topics.append(\" \".join(top_features))\n",
    "    return topics\n",
    "\n",
    "no_top_words = 10\n",
    "df['topic'] = lda.transform(tfidf_matrix).argmax(axis=1)\n",
    "topics = display_topics(lda, feature_names, no_top_words)\n",
    "\n",
    "# Display the DataFrame with sentiment, top keywords, and topics\n",
    "df.head()"
   ]
  },
  {
   "cell_type": "code",
   "execution_count": 23,
   "metadata": {},
   "outputs": [
    {
     "name": "stdout",
     "output_type": "stream",
     "text": [
      "c:\\Users\\ethio\\Desktop\\Tenx.AIM2 -ET\\Week1\\Et.Task.W1\\W1.FinNews-StockPrice-Integration\\notebooks\n",
      "c:\\Users\\ethio\\Desktop\\Tenx.AIM2 -ET\\Week1\\Et.Task.W1\\W1.FinNews-StockPrice-Integration\n"
     ]
    }
   ],
   "source": [
    "\n",
    "import os\n",
    "import sys\n",
    "\n",
    "\n",
    "\n",
    "current_dir = os.getcwd()\n",
    "print(current_dir)\n",
    "\n",
    "# Get the parent directory\n",
    "parent_dir = os.path.dirname(current_dir)\n",
    "print(parent_dir)\n",
    "\n",
    "# Insert the path to the parent directory\n",
    "sys.path.insert(0, parent_dir)\n"
   ]
  },
  {
   "cell_type": "code",
   "execution_count": 25,
   "metadata": {},
   "outputs": [
    {
     "ename": "ModuleNotFoundError",
     "evalue": "No module named 'scripts.text_analysis'",
     "output_type": "error",
     "traceback": [
      "\u001b[1;31m---------------------------------------------------------------------------\u001b[0m",
      "\u001b[1;31mModuleNotFoundError\u001b[0m                       Traceback (most recent call last)",
      "Cell \u001b[1;32mIn[25], line 1\u001b[0m\n\u001b[1;32m----> 1\u001b[0m \u001b[38;5;28;01mfrom\u001b[39;00m \u001b[38;5;21;01mscripts\u001b[39;00m\u001b[38;5;21;01m.\u001b[39;00m\u001b[38;5;21;01mtext_analysis\u001b[39;00m \u001b[38;5;28;01mimport\u001b[39;00m TextAnalysis\n",
      "\u001b[1;31mModuleNotFoundError\u001b[0m: No module named 'scripts.text_analysis'"
     ]
    }
   ],
   "source": [
    "from scripts.text_analysis import TextAnalysis\n"
   ]
  }
 ],
 "metadata": {
  "kernelspec": {
   "display_name": "myenv",
   "language": "python",
   "name": "myenv"
  },
  "language_info": {
   "codemirror_mode": {
    "name": "ipython",
    "version": 3
   },
   "file_extension": ".py",
   "mimetype": "text/x-python",
   "name": "python",
   "nbconvert_exporter": "python",
   "pygments_lexer": "ipython3",
   "version": "3.12.4"
  }
 },
 "nbformat": 4,
 "nbformat_minor": 2
}
