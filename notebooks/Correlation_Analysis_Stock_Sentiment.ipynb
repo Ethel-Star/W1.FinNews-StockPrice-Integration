{
 "cells": [
  {
   "cell_type": "markdown",
   "metadata": {},
   "source": [
    "# 10 Academy: Artificial Intelligence Mastery\n",
    "\n",
    "\n",
    "# Correlation Analysis \n",
    "General objective:\n",
    "How sentiment analysis(emotional tone of the headlines) affect stock price movement \n",
    "\n",
    "Ethel Cherotaw\n"
   ]
  },
  {
   "cell_type": "markdown",
   "metadata": {},
   "source": [
    "Step 1: Prepare the Data"
   ]
  },
  {
   "cell_type": "code",
   "execution_count": 9,
   "metadata": {},
   "outputs": [
    {
     "name": "stdout",
     "output_type": "stream",
     "text": [
      "Filtered Analyst Ratings Data(Stocks.AAPL,AMZN,GOOG,NVDA, and TESLA):\n",
      "\n",
      "AAPL Historical Data:\n",
      "         Date      Open      High       Low     Close  Adj Close     Volume  \\\n",
      "0  1980-12-12  0.128348  0.128906  0.128348  0.128348   0.098943  469033600   \n",
      "1  1980-12-15  0.122210  0.122210  0.121652  0.121652   0.093781  175884800   \n",
      "2  1980-12-16  0.113281  0.113281  0.112723  0.112723   0.086898  105728000   \n",
      "3  1980-12-17  0.115513  0.116071  0.115513  0.115513   0.089049   86441600   \n",
      "4  1980-12-18  0.118862  0.119420  0.118862  0.118862   0.091630   73449600   \n",
      "\n",
      "   Dividends  Stock Splits  \n",
      "0        0.0           0.0  \n",
      "1        0.0           0.0  \n",
      "2        0.0           0.0  \n",
      "3        0.0           0.0  \n",
      "4        0.0           0.0  \n"
     ]
    }
   ],
   "source": [
    "import pandas as pd\n",
    "import numpy as np\n",
    "from nltk.sentiment.vader import SentimentIntensityAnalyzer\n",
    "import matplotlib.pyplot as plt\n",
    "import seaborn as sns\n",
    "\n",
    "filtered_data =pd.read_csv(r'C:\\Users\\ethio\\Desktop\\Tenx.AIM2 -ET\\Week1\\Data\\filtered_analyst_ratings.csv') \n",
    "aapl_data = pd.read_csv(r'C:\\Users\\ethio\\Desktop\\Tenx.AIM2 -ET\\Week1\\Data\\yfinance_data\\AAPL_historical_data.csv')\n",
    "amzn_data = pd.read_csv(r'C:\\Users\\ethio\\Desktop\\Tenx.AIM2 -ET\\Week1\\Data\\yfinance_data\\AMZN_historical_data.csv')\n",
    "goog_data = pd.read_csv(r'C:\\Users\\ethio\\Desktop\\Tenx.AIM2 -ET\\Week1\\Data\\yfinance_data\\GOOG_historical_data.csv')\n",
    "meta_data = pd.read_csv(r'C:\\Users\\ethio\\Desktop\\Tenx.AIM2 -ET\\Week1\\Data\\yfinance_data\\META_historical_data.csv')\n",
    "msft_data = pd.read_csv(r'C:\\Users\\ethio\\Desktop\\Tenx.AIM2 -ET\\Week1\\Data\\yfinance_data\\MSFT_historical_data.csv')\n",
    "nvda_data = pd.read_csv(r'C:\\Users\\ethio\\Desktop\\Tenx.AIM2 -ET\\Week1\\Data\\yfinance_data\\NVDA_historical_data.csv')\n",
    "tsla_data = pd.read_csv(r'C:\\Users\\ethio\\Desktop\\Tenx.AIM2 -ET\\Week1\\Data\\yfinance_data\\TSLA_historical_data.csv') \n",
    "\n",
    "# Checking the date format \n",
    "print(\"Filtered Analyst Ratings Data(Stocks.AAPL,AMZN,GOOG,NVDA, and TESLA):\")\n",
    "filtered_data.head()\n",
    "\n",
    "print(\"\\nAAPL Historical Data:\")\n",
    "print(aapl_data.head())"
   ]
  },
  {
   "cell_type": "markdown",
   "metadata": {},
   "source": [
    "# Data Cleansing \n",
    "\n",
    "Step 2: Ensure the date format in the headlines data matches the stock data.\n",
    "\n",
    "Maintaining uniform date formatting is essential for precise time-based analyses and comparisons with other time series datasets. Ensuring a consistent date format allows for accurate temporal comparisons and proper assessment of trends and patterns. Furthermore, enhancing readability by eliminating unnecessary or redundant columns and renaming columns can also help improve clarity and reduce errors in the dataset. Making sure that only data that is relevant is included is important for maintaining the integrity of correlation calculations and data analysis, resulting in more accurate and practical insights. \n",
    "\n",
    "Date Parsing: "
   ]
  },
  {
   "cell_type": "code",
   "execution_count": 10,
   "metadata": {},
   "outputs": [
    {
     "name": "stdout",
     "output_type": "stream",
     "text": [
      "                                               headline  \\\n",
      "0     Tech Stocks And FAANGS Strong Again To Start D...   \n",
      "1         10 Biggest Price Target Changes For Wednesday   \n",
      "2     Benzinga Pro's Top 5 Stocks To Watch For Wed.,...   \n",
      "3     Deutsche Bank Maintains Buy on Apple, Raises P...   \n",
      "4     Apple To Let Users Trade In Their Mac Computer...   \n",
      "...                                                 ...   \n",
      "6934   Electrek.Co Tweet: Tesla's head of Europe is out   \n",
      "6935  Tesla's Q2 Delivery Number Could Cause A Big Move   \n",
      "6936  'Tesla Electric Airplane? Elon Musk sees elect...   \n",
      "6937  UPDATE: JMP Reiterates Outperform, $347 Target...   \n",
      "6938  Tesla shares are trading higher after JMP Secu...   \n",
      "\n",
      "                                                    url          publisher  \\\n",
      "0     https://www.benzinga.com/government/20/06/1622...         JJ Kinahan   \n",
      "1     https://www.benzinga.com/analyst-ratings/price...         Lisa Levin   \n",
      "2     https://www.benzinga.com/short-sellers/20/06/1...  Benzinga Newsdesk   \n",
      "3     https://www.benzinga.com/news/20/06/16219873/d...  Benzinga Newsdesk   \n",
      "4     https://www.benzinga.com/news/20/06/16218697/a...      Neer Varshney   \n",
      "...                                                 ...                ...   \n",
      "6934  https://www.benzinga.com/news/19/07/14015998/e...      Charles Gross   \n",
      "6935  https://www.benzinga.com/analyst-ratings/analy...       Wayne Duggan   \n",
      "6936  https://www.benzinga.com/news/19/07/14011389/t...  Benzinga Newsdesk   \n",
      "6937  https://www.benzinga.com/analyst-ratings/analy...  Benzinga_Newsdesk   \n",
      "6938  https://www.benzinga.com/markets/wiim/19/07/14...         Hal Lindon   \n",
      "\n",
      "     stock        Date  \n",
      "0     AAPL  06/10/2020  \n",
      "1     AAPL  06/10/2020  \n",
      "2     AAPL  06/10/2020  \n",
      "3     AAPL  06/10/2020  \n",
      "4     AAPL  06/10/2020  \n",
      "...    ...         ...  \n",
      "6934  TSLA  07/02/2019  \n",
      "6935  TSLA  07/01/2019  \n",
      "6936  TSLA  07/01/2019  \n",
      "6937  TSLA  07/01/2019  \n",
      "6938  TSLA  07/01/2019  \n",
      "\n",
      "[6939 rows x 5 columns]\n"
     ]
    }
   ],
   "source": [
    "def convert_date_format(date_str):\n",
    "    if '-' in date_str:  # If the date contains a '-' (indicating yyyy-mm-dd format)\n",
    "        date = pd.to_datetime(date_str, errors='coerce')  # Convert to datetime\n",
    "        return date.strftime('%m/%d/%Y') if not pd.isnull(date) else np.nan\n",
    "    elif '/' in date_str:  # If the date contains a '/' (indicating mm/dd/yyyy format)\n",
    "        date = pd.to_datetime(date_str, format='%m/%d/%Y %H:%M', errors='coerce')  # Convert to datetime\n",
    "        return date.strftime('%m/%d/%Y') if not pd.isnull(date) else np.nan\n",
    "    else:\n",
    "        return np.nan\n",
    "\n",
    "# Load the filtered data\n",
    "filtered_data = pd.read_csv(r'C:\\Users\\ethio\\Desktop\\Tenx.AIM2 -ET\\Week1\\Data\\filtered_analyst_ratings.csv')\n",
    "\n",
    "filtered_data['converted_date'] = filtered_data['date'].apply(convert_date_format)\n",
    "\n",
    "filtered_data = filtered_data.drop(columns=['date'])\n",
    "\n",
    "filtered_data = filtered_data.rename(columns={'converted_date': 'Date'})\n",
    "\n",
    "unnamed_columns = [col for col in filtered_data.columns if 'Unnamed' in col]\n",
    "filtered_data = filtered_data.drop(columns=unnamed_columns)\n",
    "\n",
    "#filtered_data.to_csv(r'C:\\Users\\ethio\\Desktop\\Tenx.AIM2 -ET\\Week1\\Data\\filtered_dates.csv', index=False)\n",
    "\n",
    "print(filtered_data)"
   ]
  },
  {
   "cell_type": "markdown",
   "metadata": {},
   "source": [
    "Step 3: Filtering the data\n",
    "\n",
    "Aligning data based on dates and concentrating on closing prices are crucial phases in data cleaning to maintain consistency and comparability of datasets. By eliminating unnecessary columns and filtering by the same dates, inconsistencies are eliminated and only the most pertinent data is analyzed. This procedure is crucial for ensuring the consistency and correctness of data, especially when conducting correlation analysis. Cleaning the data helps ensure that any discovered insights or relationships are founded on dependable and consistent information. "
   ]
  },
  {
   "cell_type": "code",
   "execution_count": 11,
   "metadata": {},
   "outputs": [],
   "source": [
    "\n",
    "def align_and_save_closing_prices( filtered_data, historical_paths, output_dir):\n",
    "   \n",
    "    filtered_data['Date'] = pd.to_datetime(filtered_data['Date'])\n",
    "\n",
    "    # Create a directory to save aligned data if it does not exist\n",
    "    os.makedirs(output_dir, exist_ok=True)\n",
    "\n",
    "    def align_data(stock_symbol, filtered_data, stock_data):\n",
    "        \"\"\"Filter and merge data for each stock symbol, keeping only the closing price and adding stock symbol.\"\"\"\n",
    "        filtered_stock = filtered_data[filtered_data['stock'] == stock_symbol]\n",
    "        merged_stock = pd.merge(filtered_stock, stock_data[['Date', 'Close']], left_on='Date', right_on='Date', how='inner')\n",
    "        merged_stock['stock'] = stock_symbol  # Add the stock symbol column\n",
    "        return merged_stock[['Date', 'headline', 'url', 'publisher', 'Close', 'stock']]\n",
    "\n",
    "    for symbol, path in historical_paths.items():\n",
    "        # Load the historical stock data\n",
    "        stock_data = pd.read_csv(path)\n",
    "        stock_data['Date'] = pd.to_datetime(stock_data['Date'])\n",
    "        \n",
    "        # Align and save the data\n",
    "        aligned_data = align_data(symbol, filtered_data, stock_data)\n",
    "        output_file = os.path.join(output_dir, f'final_aligned_{symbol.lower()}_closing_data.csv')\n",
    "        aligned_data.to_csv(output_file, index=False)\n",
    "       \n",
    "historical_stock_paths = {\n",
    "    'AAPL': r'C:\\Users\\ethio\\Desktop\\Tenx.AIM2 -ET\\Week1\\Data\\yfinance_data\\AAPL_historical_data.csv',\n",
    "    'AMZN': r'C:\\Users\\ethio\\Desktop\\Tenx.AIM2 -ET\\Week1\\Data\\yfinance_data\\AMZN_historical_data.csv',\n",
    "    'GOOG': r'C:\\Users\\ethio\\Desktop\\Tenx.AIM2 -ET\\Week1\\Data\\yfinance_data\\GOOG_historical_data.csv',\n",
    "    'META': r'C:\\Users\\ethio\\Desktop\\Tenx.AIM2 -ET\\Week1\\Data\\yfinance_data\\META_historical_data.csv',\n",
    "    'MSFT': r'C:\\Users\\ethio\\Desktop\\Tenx.AIM2 -ET\\Week1\\Data\\yfinance_data\\MSFT_historical_data.csv',\n",
    "    'NVDA': r'C:\\Users\\ethio\\Desktop\\Tenx.AIM2 -ET\\Week1\\Data\\yfinance_data\\NVDA_historical_data.csv',\n",
    "    'TSLA': r'C:\\Users\\ethio\\Desktop\\Tenx.AIM2 -ET\\Week1\\Data\\yfinance_data\\TSLA_historical_data.csv'\n",
    "}\n",
    "output_directory = r'C:\\Users\\ethio\\Desktop\\Tenx.AIM2 -ET\\Week1\\Data\\final_aligned_closing_data'\n",
    "\n",
    "# Call the function\n",
    "align_and_save_closing_prices( filtered_data,historical_stock_paths, output_directory)\n"
   ]
  },
  {
   "cell_type": "markdown",
   "metadata": {},
   "source": [
    "# Sentiment Analysis\n",
    "\n",
    "Step 4: Sentimental analysis for each stocks \n",
    "\n",
    "In order to investigate the connection between market sentiment and stock performance, match up past stock closing prices with relevant financial news headlines. Use the VADER sentiment analysis tool to evaluate the sentiment of every headline, classifying it as positive, neutral, or negative. Visualize the sentiment score distribution for various stocks by creating a subplot grid for a thorough comparison. This method assists in identifying possible correlations between the sentiment conveyed in the news and future fluctuations in stock prices, providing valuable guidance for making strategic decisions in financial markets. \n",
    "\n",
    "Sentiment has the greatest influence on the closing price as it represents the market's ultimate verdict at the end of the day. Adjusted Close becomes more advantageous when taking into consideration dividends and stock splits. "
   ]
  },
  {
   "cell_type": "code",
   "execution_count": 14,
   "metadata": {},
   "outputs": [
    {
     "ename": "AttributeError",
     "evalue": "'str' object has no attribute 'head'",
     "output_type": "error",
     "traceback": [
      "\u001b[1;31m---------------------------------------------------------------------------\u001b[0m",
      "\u001b[1;31mAttributeError\u001b[0m                            Traceback (most recent call last)",
      "Cell \u001b[1;32mIn[14], line 80\u001b[0m\n\u001b[0;32m     77\u001b[0m output_directory \u001b[38;5;241m=\u001b[39m \u001b[38;5;124mr\u001b[39m\u001b[38;5;124m'\u001b[39m\u001b[38;5;124mC:\u001b[39m\u001b[38;5;124m\\\u001b[39m\u001b[38;5;124mUsers\u001b[39m\u001b[38;5;124m\\\u001b[39m\u001b[38;5;124methio\u001b[39m\u001b[38;5;124m\\\u001b[39m\u001b[38;5;124mDesktop\u001b[39m\u001b[38;5;124m\\\u001b[39m\u001b[38;5;124mTenx.AIM2 -ET\u001b[39m\u001b[38;5;124m\\\u001b[39m\u001b[38;5;124mWeek1\u001b[39m\u001b[38;5;124m\\\u001b[39m\u001b[38;5;124mData\u001b[39m\u001b[38;5;124m\\\u001b[39m\u001b[38;5;124mfinal_aligned_closing_data_with_sentiment\u001b[39m\u001b[38;5;124m'\u001b[39m\n\u001b[0;32m     79\u001b[0m \u001b[38;5;66;03m# Call the function\u001b[39;00m\n\u001b[1;32m---> 80\u001b[0m \u001b[43malign_and_save_closing_prices_with_sentiment\u001b[49m\u001b[43m(\u001b[49m\u001b[43mfiltered_data\u001b[49m\u001b[43m,\u001b[49m\u001b[43m \u001b[49m\u001b[43mhistorical_stock_paths\u001b[49m\u001b[43m,\u001b[49m\u001b[43m \u001b[49m\u001b[43moutput_directory\u001b[49m\u001b[43m)\u001b[49m\n",
      "Cell \u001b[1;32mIn[14], line 42\u001b[0m, in \u001b[0;36malign_and_save_closing_prices_with_sentiment\u001b[1;34m(filtered_data, historical_paths, output_dir)\u001b[0m\n\u001b[0;32m     40\u001b[0m output_file \u001b[38;5;241m=\u001b[39m os\u001b[38;5;241m.\u001b[39mpath\u001b[38;5;241m.\u001b[39mjoin(output_dir, \u001b[38;5;124mf\u001b[39m\u001b[38;5;124m'\u001b[39m\u001b[38;5;124mfinal_aligned_\u001b[39m\u001b[38;5;132;01m{\u001b[39;00msymbol\u001b[38;5;241m.\u001b[39mlower()\u001b[38;5;132;01m}\u001b[39;00m\u001b[38;5;124m_closing_data_with_sentiment.csv\u001b[39m\u001b[38;5;124m'\u001b[39m)\n\u001b[0;32m     41\u001b[0m merged_stock\u001b[38;5;241m.\u001b[39mto_csv(output_file, index\u001b[38;5;241m=\u001b[39m\u001b[38;5;28;01mFalse\u001b[39;00m)\n\u001b[1;32m---> 42\u001b[0m \u001b[43moutput_file\u001b[49m\u001b[38;5;241;43m.\u001b[39;49m\u001b[43mhead\u001b[49m()\n\u001b[0;32m     43\u001b[0m \u001b[38;5;66;03m# Plotting the distribution of sentiment scores\u001b[39;00m\n\u001b[0;32m     44\u001b[0m sns\u001b[38;5;241m.\u001b[39mhistplot(merged_stock[\u001b[38;5;124m'\u001b[39m\u001b[38;5;124msentiment\u001b[39m\u001b[38;5;124m'\u001b[39m], bins\u001b[38;5;241m=\u001b[39m\u001b[38;5;241m30\u001b[39m, kde\u001b[38;5;241m=\u001b[39m\u001b[38;5;28;01mTrue\u001b[39;00m, color\u001b[38;5;241m=\u001b[39m\u001b[38;5;124m'\u001b[39m\u001b[38;5;124mskyblue\u001b[39m\u001b[38;5;124m'\u001b[39m, ax\u001b[38;5;241m=\u001b[39maxes[i])\n",
      "\u001b[1;31mAttributeError\u001b[0m: 'str' object has no attribute 'head'"
     ]
    },
    {
     "data": {
      "image/png": "[encoded data removed]",
      "text/plain": [
       "<Figure size 1500x1800 with 6 Axes>"
      ]
     },
     "metadata": {},
     "output_type": "display_data"
    }
   ],
   "source": [
    "\n",
    "# Initialize VADER sentiment analyzer\n",
    "sid = SentimentIntensityAnalyzer()\n",
    "\n",
    "# Function to analyze sentiment of a given text\n",
    "def analyze_sentiment(text):\n",
    "    sentiment_scores = sid.polarity_scores(text)\n",
    "    return sentiment_scores['compound']\n",
    "\n",
    "# Function to categorize sentiment based on the score\n",
    "def categorize_sentiment(score, positive_threshold=0.05, negative_threshold=-0.05):\n",
    "    if score >= positive_threshold:\n",
    "        return 'Positive'\n",
    "    elif score <= negative_threshold:\n",
    "        return 'Negative'\n",
    "    else:\n",
    "        return 'Neutral'\n",
    "\n",
    "def align_and_save_closing_prices_with_sentiment(filtered_data, historical_paths, output_dir):\n",
    "    filtered_data['Date'] = pd.to_datetime(filtered_data['Date'])\n",
    "    os.makedirs(output_dir, exist_ok=True)\n",
    "\n",
    "    fig, axes = plt.subplots(3, 2, figsize=(15, 18))  # Create 3x2 subplots grid\n",
    "    axes = axes.flatten()  # Flatten the 2D array of axes to 1D for easier indexing\n",
    "\n",
    "    for i, (symbol, path) in enumerate(historical_paths.items()):\n",
    "        # Load the historical stock data\n",
    "        stock_data = pd.read_csv(path)\n",
    "        stock_data['Date'] = pd.to_datetime(stock_data['Date'])\n",
    "        \n",
    "        # Filter and merge data for each stock symbol\n",
    "        filtered_stock = filtered_data[filtered_data['stock'] == symbol]\n",
    "        merged_stock = pd.merge(filtered_stock, stock_data[['Date', 'Close']], left_on='Date', right_on='Date', how='inner')\n",
    "        merged_stock['stock'] = symbol\n",
    "        \n",
    "        # Perform sentiment analysis\n",
    "        merged_stock['sentiment'] = merged_stock['headline'].apply(analyze_sentiment)\n",
    "        merged_stock['sentiment_category'] = merged_stock['sentiment'].apply(categorize_sentiment)\n",
    "\n",
    "        # Save the results to a CSV file\n",
    "        output_file = os.path.join(output_dir, f'final_aligned_{symbol.lower()}_closing_data_with_sentiment.csv')\n",
    "        merged_stock.to_csv(output_file, index=False)\n",
    "        output_file.head()\n",
    "        # Plotting the distribution of sentiment scores\n",
    "        sns.histplot(merged_stock['sentiment'], bins=30, kde=True, color='skyblue', ax=axes[i])\n",
    "\n",
    "        # Adding vertical lines for sentiment boundaries\n",
    "        axes[i].axvline(x=-0.05, color='red', linestyle='--', label='Negative Threshold')\n",
    "        axes[i].axvline(x=0.05, color='green', linestyle='--', label='Positive Threshold')\n",
    "        axes[i].axvline(x=0, color='gray', linestyle='--', label='Neutral Threshold')\n",
    "\n",
    "        axes[i].set_title(f'Distribution of Sentiment Scores for {symbol}')\n",
    "        axes[i].set_xlabel('Sentiment Score')\n",
    "        axes[i].set_ylabel('Frequency')\n",
    "        axes[i].legend(title='Sentiment Thresholds')\n",
    "\n",
    "        # Print the counts of each sentiment category for quick reference\n",
    "        sentiment_counts = merged_stock['sentiment_category'].value_counts()\n",
    "        print(f'Sentiment counts for {symbol}:')\n",
    "        print(sentiment_counts)\n",
    "        print(\"\\n\")\n",
    "\n",
    "    # Remove the empty subplot if there are fewer than 6 plots\n",
    "    if len(historical_paths) < 6:\n",
    "        fig.delaxes(axes[-1])\n",
    "\n",
    "    plt.tight_layout()  # Adjust spacing between subplots\n",
    "    plt.show()\n",
    "\n",
    "# Define your file paths and output directory\n",
    "historical_stock_paths = {\n",
    "    'AAPL': r'C:\\Users\\ethio\\Desktop\\Tenx.AIM2 -ET\\Week1\\Data\\yfinance_data\\AAPL_historical_data.csv',\n",
    "    'AMZN': r'C:\\Users\\ethio\\Desktop\\Tenx.AIM2 -ET\\Week1\\Data\\yfinance_data\\AMZN_historical_data.csv',\n",
    "    'GOOG': r'C:\\Users\\ethio\\Desktop\\Tenx.AIM2 -ET\\Week1\\Data\\yfinance_data\\GOOG_historical_data.csv',\n",
    "    'NVDA': r'C:\\Users\\ethio\\Desktop\\Tenx.AIM2 -ET\\Week1\\Data\\yfinance_data\\NVDA_historical_data.csv',\n",
    "    'TSLA': r'C:\\Users\\ethio\\Desktop\\Tenx.AIM2 -ET\\Week1\\Data\\yfinance_data\\TSLA_historical_data.csv'\n",
    "}\n",
    "output_directory = r'C:\\Users\\ethio\\Desktop\\Tenx.AIM2 -ET\\Week1\\Data\\final_aligned_closing_data_with_sentiment'\n",
    "\n",
    "# Call the function\n",
    "align_and_save_closing_prices_with_sentiment(filtered_data, historical_stock_paths, output_directory)\n",
    "\n"
   ]
  },
  {
   "cell_type": "markdown",
   "metadata": {},
   "source": [
    "The visual displays histograms depicting how sentiment scores are spread among five key stocks: AAPL (Apple), AMZN (Amazon), GOOG (Google), NVDA (NVIDIA), and TSLA (Tesla). Every histogram displays the occurrence of sentiment scores, spanning from negative to positive, where the x-axis exhibits the sentiment scores and the y-axis depicts their frequency. The histograms have dashed lines that show sentiment thresholds: red for negative, green for positive, and black for neutral sentiment. "
   ]
  },
  {
   "cell_type": "markdown",
   "metadata": {},
   "source": [
    "The distributions indicate that AAPL and GOOG stocks have a variety of sentiments leaning towards positivity, while NVDA and TSLA stocks are mostly neutral. AMZN's sentiment scores are closely grouped around neutrality with a slight favor towards positivity and less extreme fluctuations. This examination is crucial in deciphering the distribution of sentiment among these stocks and reveal connections between market sentiment and stock price changes. "
   ]
  },
  {
   "cell_type": "markdown",
   "metadata": {},
   "source": []
  }
 ],
 "metadata": {
  "kernelspec": {
   "display_name": "myenv",
   "language": "python",
   "name": "python3"
  },
  "language_info": {
   "codemirror_mode": {
    "name": "ipython",
    "version": 3
   },
   "file_extension": ".py",
   "mimetype": "text/x-python",
   "name": "python",
   "nbconvert_exporter": "python",
   "pygments_lexer": "ipython3",
   "version": "3.12.4"
  }
 },
 "nbformat": 4,
 "nbformat_minor": 2
}
